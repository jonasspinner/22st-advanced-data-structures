{
 "cells": [
  {
   "cell_type": "code",
   "execution_count": null,
   "id": "0bb224f2",
   "metadata": {},
   "outputs": [],
   "source": [
    "import pandas as pd\n",
    "import matplotlib.pyplot as plt\n",
    "import numpy as np\n",
    "import seaborn as sns\n",
    "\n",
    "sns.set_theme()"
   ]
  },
  {
   "cell_type": "code",
   "execution_count": null,
   "id": "aaab9e24",
   "metadata": {},
   "outputs": [],
   "source": [
    "df = pd.read_csv(\"bv_benchmark.csv\")\n",
    "df"
   ]
  },
  {
   "cell_type": "code",
   "execution_count": null,
   "id": "dae97eb1",
   "metadata": {},
   "outputs": [],
   "source": [
    "df[\"n\"] = df[\"name\"].str.split(\"/\").str[-1].astype(int)\n",
    "df[\"T\"] = df[\"name\"].str.split(\"/\").str[0]\n",
    "df[\"time (ns)\"] = df[\"cpu_time\"]\n",
    "df[\"time (ns) / n\"] = df[\"time (ns)\"] / df[\"n\"]\n",
    "df[\"time (ns) / log(n)\"] = df[\"time (ns)\"] / np.log(df[\"n\"])\n",
    "df[\"config\"] = df[\"T\"].str.split(\"<\").str[2].str[:-2]\n",
    "df[\"benchmark\"] = df[\"T\"].str.split(\"<\").str[0].str[3:]\n",
    "df.loc[df[\"config\"].isnull(), \"config\"] = \"naive\""
   ]
  },
  {
   "cell_type": "code",
   "execution_count": null,
   "id": "093360e0",
   "metadata": {
    "scrolled": true
   },
   "outputs": [],
   "source": [
    "for benchmark in (\"Select\", \"Rank\", \"Insert\", \"Remove\"):\n",
    "    d = df[(df[\"benchmark\"] == benchmark) & ~(df[\"config\"] == \"naive\")]\n",
    "\n",
    "    fig, ax = plt.subplots()\n",
    "    sns.lineplot(x=\"n\", y=\"time (ns) / log(n)\", hue=\"config\", data=d, ax=ax)\n",
    "\n",
    "    ax.set_xscale(\"log\")\n",
    "    ax.set_ylim((0, None))\n",
    "    ax.set_title(f\"BV Benchmark {benchmark}\")\n",
    "    plt.savefig(f\"bv-{benchmark}.png\")\n",
    "    plt.show()"
   ]
  },
  {
   "cell_type": "code",
   "execution_count": null,
   "id": "5ab14134",
   "metadata": {},
   "outputs": [],
   "source": [
    "for config in (\"uint64_t, 1024\", \"uint64_t, 256\", \"uint64_t, 64\", \"uint64_t, 16\", \"uint8_t, 2\", \"naive\"):\n",
    "    d = df[(df[\"benchmark\"] != \"InsertN\") & (df[\"config\"] == config)]\n",
    "\n",
    "    fig, ax = plt.subplots(figsize=(6, 4))\n",
    "    ax.set_title(f\"BV Benchmarks - {config}\")\n",
    "    sns.lineplot(x=\"n\", y=\"time (ns)\", hue=\"benchmark\", data=d, ax=ax)\n",
    "\n",
    "    if \",\" in config:\n",
    "        T, B = config.split(\", \")\n",
    "        T, B = int(T[4:-2]), int(B)\n",
    "        ax.axvline(T * B, c=\"k\", alpha=0.5, ls=\"--\")\n",
    "    ax.set_xscale(\"log\")\n",
    "    ax.set_ylim((0, None))\n",
    "    plt.savefig(f\"bv-all-{config.replace(' ', '')}.png\")\n",
    "    plt.show()"
   ]
  }
 ],
 "metadata": {
  "kernelspec": {
   "display_name": "Python 3",
   "language": "python",
   "name": "python3"
  },
  "language_info": {
   "codemirror_mode": {
    "name": "ipython",
    "version": 3
   },
   "file_extension": ".py",
   "mimetype": "text/x-python",
   "name": "python",
   "nbconvert_exporter": "python",
   "pygments_lexer": "ipython3",
   "version": "3.10.4"
  }
 },
 "nbformat": 4,
 "nbformat_minor": 5
}
